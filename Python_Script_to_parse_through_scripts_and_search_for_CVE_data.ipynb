{
  "nbformat": 4,
  "nbformat_minor": 0,
  "metadata": {
    "colab": {
      "provenance": []
    },
    "kernelspec": {
      "name": "python3",
      "display_name": "Python 3"
    },
    "language_info": {
      "name": "python"
    }
  },
  "cells": [
    {
      "cell_type": "code",
      "execution_count": null,
      "metadata": {
        "colab": {
          "base_uri": "https://localhost:8080/"
        },
        "id": "KQBgjZ-_XE4k",
        "outputId": "e88b8c47-2ccf-4b9d-da27-cf368ffd8f5b"
      },
      "outputs": [
        {
          "output_type": "stream",
          "name": "stdout",
          "text": [
            "Looking in indexes: https://pypi.org/simple, https://us-python.pkg.dev/colab-wheels/public/simple/\n",
            "Collecting Gitpython\n",
            "  Downloading GitPython-3.1.31-py3-none-any.whl (184 kB)\n",
            "\u001b[2K     \u001b[90m━━━━━━━━━━━━━━━━━━━━━━━━━━━━━━━━━━━━━━━\u001b[0m \u001b[32m184.3/184.3 KB\u001b[0m \u001b[31m4.6 MB/s\u001b[0m eta \u001b[36m0:00:00\u001b[0m\n",
            "\u001b[?25hCollecting gitdb<5,>=4.0.1\n",
            "  Downloading gitdb-4.0.10-py3-none-any.whl (62 kB)\n",
            "\u001b[2K     \u001b[90m━━━━━━━━━━━━━━━━━━━━━━━━━━━━━━━━━━━━━━━━\u001b[0m \u001b[32m62.7/62.7 KB\u001b[0m \u001b[31m4.0 MB/s\u001b[0m eta \u001b[36m0:00:00\u001b[0m\n",
            "\u001b[?25hCollecting smmap<6,>=3.0.1\n",
            "  Downloading smmap-5.0.0-py3-none-any.whl (24 kB)\n",
            "Installing collected packages: smmap, gitdb, Gitpython\n",
            "Successfully installed Gitpython-3.1.31 gitdb-4.0.10 smmap-5.0.0\n",
            "Looking in indexes: https://pypi.org/simple, https://us-python.pkg.dev/colab-wheels/public/simple/\n",
            "Requirement already satisfied: gitpython in /usr/local/lib/python3.8/dist-packages (3.1.31)\n",
            "Requirement already satisfied: gitdb<5,>=4.0.1 in /usr/local/lib/python3.8/dist-packages (from gitpython) (4.0.10)\n",
            "Requirement already satisfied: smmap<6,>=3.0.1 in /usr/local/lib/python3.8/dist-packages (from gitdb<5,>=4.0.1->gitpython) (5.0.0)\n"
          ]
        }
      ],
      "source": [
        "import requests\n",
        "import re\n",
        "import os\n",
        "!pip3 install Gitpython\n",
        "!pip3 install gitpython --upgrade\n",
        "import git\n"
      ]
    },
    {
      "cell_type": "code",
      "source": [
        "\n",
        "# Define the repository name and owner\n",
        "repo_owner = \"cldrn\"\n",
        "repo_name = \"nmap-nse-scripts\"\n",
        "\n",
        "# Define the URL to access the repository contents using the Github API\n",
        "contents_url = f\"https://api.github.com/repos/cldrn/nmap-nse-scripts/contents\"\n",
        "\n",
        "# Send a GET request to the Github API to retrieve the repository contents\n",
        "response = requests.get(contents_url)\n",
        "\n",
        "# Check if the response was successful\n",
        "if response.status_code == 200:\n",
        "    # Get the repository contents data\n",
        "    repo_contents = response.json()\n",
        "    # Define the regular expression pattern to search for CVE data\n",
        "    cve_pattern = re.compile(r'CVE-\\d{4}-\\d{4,7}')\n",
        "    \n",
        "    # Loop through the repository contents\n",
        "    for content in repo_contents:\n",
        "        # Check if the content is a folder\n",
        "        if content[\"type\"] == \"dir\":\n",
        "            # Get the folder contents URL\n",
        "            folder_url = content[\"url\"]\n",
        "            # Send a GET request to retrieve the folder contents\n",
        "            folder_response = requests.get(folder_url)\n",
        "            # Check if the response was successful\n",
        "            if folder_response.status_code == 200:\n",
        "                # Get the folder contents data\n",
        "                folder_contents = folder_response.json()\n",
        "                # Loop through the folder contents\n",
        "                for folder_content in folder_contents:\n",
        "                    # Check if the content is a .nse file\n",
        "                    if folder_content[\"name\"].endswith(\".nse\"):\n",
        "                        # Get the .nse file content URL\n",
        "                        file_url = folder_content[\"download_url\"]\n",
        "                        # Send a GET request to retrieve the file content\n",
        "                        file_response = requests.get(file_url)\n",
        "                        # Check if the response was successful\n",
        "                        if file_response.status_code == 200:\n",
        "                            # Get the file contents\n",
        "                            file_contents = file_response.text\n",
        "                            # Search for CVE data using the regular expression\n",
        "                            cve_match = cve_pattern.search(file_contents)\n",
        "                            if cve_match:\n",
        "                                print(f\"CVE data found in file: {folder_content['name']}\")\n",
        "                                print(cve_match.group(0))\n",
        "                            else:\n",
        "                                print(\"No CVE data found in file: \", folder_content[\"name\"])\n",
        "                        else:\n",
        "                            print(\"Failed to retrieve file contents\")\n",
        "                            print(\"Response status code: \", file_response.status_code)\n",
        "            else:\n",
        "                print(\"Failed to retrieve folder contents\")\n",
        "                print(\"Response status code: \", folder_response.status_code)\n",
        "else:\n",
        "    print(\"Failed to retrieve repository contents\")\n",
        "    print(\"Response status code: \", response.status_code)"
      ],
      "metadata": {
        "colab": {
          "base_uri": "https://localhost:8080/"
        },
        "id": "wfqi-zgWAoR0",
        "outputId": "df391bca-2948-495a-c94b-815fafd0ff34"
      },
      "execution_count": null,
      "outputs": [
        {
          "output_type": "stream",
          "name": "stdout",
          "text": [
            "No CVE data found in file:  hostmap.nse\n",
            "CVE data found in file: http-awstatstotals-exec.nse\n",
            "CVE-2008-3922\n",
            "No CVE data found in file:  http-axis2-dir-traversal.nse\n",
            "No CVE data found in file:  http-brute.nse\n",
            "No CVE data found in file:  http-cakephp-version.nse\n",
            "No CVE data found in file:  http-default-accounts.nse\n",
            "No CVE data found in file:  http-email-harvest.nse\n",
            "No CVE data found in file:  http-form-brute.nse\n",
            "No CVE data found in file:  http-google-malware.nse\n",
            "No CVE data found in file:  http-huawei-hg5xx-vuln.nse\n",
            "No CVE data found in file:  http-joomla-brute.nse\n",
            "CVE data found in file: http-litespeed-sourcecode-download.nse\n",
            "CVE-2010-2333\n",
            "CVE data found in file: http-majordomo2-dir-traversal.nse\n",
            "CVE-2011-0049\n",
            "No CVE data found in file:  http-phpself-xss.nse\n",
            "No CVE data found in file:  http-phpselfxss-scan.nse\n",
            "No CVE data found in file:  http-sitemap-dump.nse\n",
            "No CVE data found in file:  http-sitemap.nse\n",
            "No CVE data found in file:  http-tomcat-brute.nse\n",
            "No CVE data found in file:  http-trace.nse\n",
            "CVE data found in file: http-vuln-cve2012-1823.nse\n",
            "CVE-2012-1823\n",
            "No CVE data found in file:  http-waf-detect.nse\n",
            "No CVE data found in file:  http-wordpress-brute.nse\n",
            "No CVE data found in file:  http-wp-enum.nse\n",
            "No CVE data found in file:  huawei5xx-udp-info.nse\n",
            "No CVE data found in file:  dicom-brute.nse\n",
            "No CVE data found in file:  dicom-ping.nse\n",
            "No CVE data found in file:  dns-openresolvers-check.nse\n",
            "No CVE data found in file:  google-people-enum.nse\n",
            "No CVE data found in file:  hostmap-crtsh.nse\n",
            "No CVE data found in file:  hostmap-ip2hosts.nse\n",
            "No CVE data found in file:  hostmap.nse\n",
            "No CVE data found in file:  http-adobe-coldfusion-apsa1301.nse\n",
            "CVE data found in file: http-awstatstotals-exec.nse\n",
            "CVE-2008-3922\n",
            "No CVE data found in file:  http-axis2-dir-traversal.nse\n",
            "No CVE data found in file:  http-brute.nse\n",
            "No CVE data found in file:  http-cakephp-version.nse\n",
            "No CVE data found in file:  http-coldfusion-subzero.nse\n",
            "No CVE data found in file:  http-default-accounts.nse\n",
            "No CVE data found in file:  http-email-harvest.nse\n",
            "No CVE data found in file:  http-form-brute.nse\n",
            "No CVE data found in file:  http-google-malware.nse\n",
            "CVE data found in file: http-httpoxy.nse\n",
            "CVE-2016-5385\n",
            "No CVE data found in file:  http-huawei-hg5xx-vuln.nse\n",
            "No CVE data found in file:  http-iis-short-name-brute.nse\n",
            "No CVE data found in file:  http-iis-shortname-dos.nse\n",
            "No CVE data found in file:  http-joomla-brute.nse\n",
            "CVE data found in file: http-litespeed-sourcecode-download.nse\n",
            "CVE-2010-2333\n",
            "CVE data found in file: http-majordomo2-dir-traversal.nse\n",
            "CVE-2011-0049\n",
            "No CVE data found in file:  http-method-tamper.nse\n",
            "No CVE data found in file:  http-phpself-xss.nse\n",
            "No CVE data found in file:  http-shellshock-spider.nse\n",
            "No CVE data found in file:  http-tplink-dir-traversal.nse\n",
            "No CVE data found in file:  http-trace.nse\n",
            "No CVE data found in file:  http-trendnet-tvip110w.nse\n",
            "CVE data found in file: http-vuln-cve2012-1823.nse\n",
            "CVE-2012-1823\n",
            "CVE data found in file: http-vuln-cve2013-0156.nse\n",
            "CVE-2013-0156\n",
            "CVE data found in file: http-vuln-cve2015-1635.nse\n",
            "CVE-2015-1635\n",
            "No CVE data found in file:  http-waf-detect.nse\n",
            "No CVE data found in file:  http-wordpress-brute.nse\n",
            "No CVE data found in file:  http-wordpress-enum.nse\n",
            "No CVE data found in file:  huawei5xx-udp-info.nse\n",
            "No CVE data found in file:  mikrotik-routeros-brute.nse\n",
            "CVE data found in file: mysql-vuln-cve2012-2122.nse\n",
            "CVE-2012-2122\n",
            "No CVE data found in file:  smb-vuln-conficker.nse\n",
            "CVE data found in file: smb-vuln-cve2009-3103.nse\n",
            "CVE-2009-3103\n",
            "CVE data found in file: smb-vuln-ms06-025.nse\n",
            "CVE-2006-2370\n",
            "CVE data found in file: smb-vuln-ms07-029.nse\n",
            "CVE-2007-1748\n",
            "CVE data found in file: smb-vuln-ms08-067.nse\n",
            "CVE-2008-4250\n",
            "CVE data found in file: smb-vuln-ms17-010.nse\n",
            "CVE-2017-0143\n",
            "No CVE data found in file:  smb-vuln-regsvc-dos.nse\n",
            "No CVE data found in file:  smtp-dovecot-exim-exec.nse\n",
            "No CVE data found in file:  vulscan.nse\n"
          ]
        }
      ]
    },
    {
      "cell_type": "code",
      "source": [
        "import requests\n",
        "import re\n",
        "\n",
        "# Define the repository name and owner\n",
        "repo_owner = \"cldrn\"\n",
        "repo_name = \"nmap-nse-scripts\"\n",
        "\n",
        "# Define the URL to access the repository contents using the Github API\n",
        "contents_url = f\"https://api.github.com/repos/cldrn/nmap-nse-scripts/contents\"\n",
        "\n",
        "# Send a GET request to the Github API to retrieve the repository contents\n",
        "response = requests.get(contents_url)\n",
        "\n",
        "# Check if the response was successful\n",
        "if response.status_code == 200:\n",
        "    # Get the repository contents data\n",
        "    repo_contents = response.json()\n",
        "    # Define the regular expression pattern to search for CVE data\n",
        "    cve_pattern = re.compile(r'CVE-\\d{4}-\\d{4,7}')\n",
        "    \n",
        "    # Open a file to store the found CVE numbers\n",
        "    with open(\"found_cves.txt\", \"w\") as cve_file:\n",
        "        # Loop through the repository contents\n",
        "        for content in repo_contents:\n",
        "            # Check if the content is a folder\n",
        "            if content[\"type\"] == \"dir\":\n",
        "                # Get the folder contents URL\n",
        "                folder_url = content[\"url\"]\n",
        "                # Send a GET request to retrieve the folder contents\n",
        "                folder_response = requests.get(folder_url)\n",
        "                # Check if the response was successful\n",
        "                if folder_response.status_code == 200:\n",
        "                    # Get the folder contents data\n",
        "                    folder_contents = folder_response.json()\n",
        "                    # Loop through the folder contents\n",
        "                    for folder_content in folder_contents:\n",
        "                        # Check if the content is a .nse file\n",
        "                        if folder_content[\"name\"].endswith(\".nse\"):\n",
        "                            # Get the .nse file content URL\n",
        "                            file_url = folder_content[\"download_url\"]\n",
        "                            # Send a GET request to retrieve the file content\n",
        "                            file_response = requests.get(file_url)\n",
        "                            # Check if the response was successful\n",
        "                            if file_response.status_code == 200:\n",
        "                                # Get the file contents\n",
        "                                file_contents = file_response.text\n",
        "                                # Search for CVE data using the regular expression\n",
        "                                cve_match = cve_pattern.search(file_contents)\n",
        "                                if cve_match:\n",
        "                                    cve_file.write(f\"CVE data found in file: {folder_content['name']}\\n\")\n",
        "                                    cve_file.write(f\"{cve_match.group(0)}\\n\")\n",
        "                                else:\n",
        "                                    cve_file.write(f\"No CVE data found in file: {folder_content['name']}\\n\")\n",
        "                            else:\n",
        "                                cve_file.write(\"Failed to retrieve file contents\\n\")\n",
        "                                cve_file.write(f\"Response status code: {file_response.status_code}\\n\")\n",
        "                else:\n",
        "                    cve_file.write(\"Failed to retrieve folder contents\\n\")\n",
        "                    cve_file.write(f\"Response status code: {folder_response.status_code}\\n\")\n"
      ],
      "metadata": {
        "id": "Rgc2XRLLI0YT"
      },
      "execution_count": null,
      "outputs": []
    },
    {
      "cell_type": "code",
      "source": [
        "from google.colab import files\n",
        "files.download(\"found_cves.txt\")\n"
      ],
      "metadata": {
        "colab": {
          "base_uri": "https://localhost:8080/",
          "height": 34
        },
        "id": "XUDgVtgDnzlh",
        "outputId": "583d7b92-8893-40a8-e248-37d424166638"
      },
      "execution_count": null,
      "outputs": [
        {
          "output_type": "display_data",
          "data": {
            "text/plain": [
              "<IPython.core.display.Javascript object>"
            ],
            "application/javascript": [
              "\n",
              "    async function download(id, filename, size) {\n",
              "      if (!google.colab.kernel.accessAllowed) {\n",
              "        return;\n",
              "      }\n",
              "      const div = document.createElement('div');\n",
              "      const label = document.createElement('label');\n",
              "      label.textContent = `Downloading \"${filename}\": `;\n",
              "      div.appendChild(label);\n",
              "      const progress = document.createElement('progress');\n",
              "      progress.max = size;\n",
              "      div.appendChild(progress);\n",
              "      document.body.appendChild(div);\n",
              "\n",
              "      const buffers = [];\n",
              "      let downloaded = 0;\n",
              "\n",
              "      const channel = await google.colab.kernel.comms.open(id);\n",
              "      // Send a message to notify the kernel that we're ready.\n",
              "      channel.send({})\n",
              "\n",
              "      for await (const message of channel.messages) {\n",
              "        // Send a message to notify the kernel that we're ready.\n",
              "        channel.send({})\n",
              "        if (message.buffers) {\n",
              "          for (const buffer of message.buffers) {\n",
              "            buffers.push(buffer);\n",
              "            downloaded += buffer.byteLength;\n",
              "            progress.value = downloaded;\n",
              "          }\n",
              "        }\n",
              "      }\n",
              "      const blob = new Blob(buffers, {type: 'application/binary'});\n",
              "      const a = document.createElement('a');\n",
              "      a.href = window.URL.createObjectURL(blob);\n",
              "      a.download = filename;\n",
              "      div.appendChild(a);\n",
              "      a.click();\n",
              "      div.remove();\n",
              "    }\n",
              "  "
            ]
          },
          "metadata": {}
        },
        {
          "output_type": "display_data",
          "data": {
            "text/plain": [
              "<IPython.core.display.Javascript object>"
            ],
            "application/javascript": [
              "download(\"download_642fec22-da69-4c01-98c2-bfab4d3659bf\", \"found_cves.txt\", 3843)"
            ]
          },
          "metadata": {}
        }
      ]
    },
    {
      "cell_type": "code",
      "source": [
        "import random\n",
        "\n",
        "# Generate 10 random IP addresses\n",
        "ips = []\n",
        "for i in range(10):\n",
        "    ip = \".\".join(str(random.randint(0, 255)) for _ in range(4))\n",
        "    ips.append(ip)\n",
        "\n",
        "# Write the random IP addresses to a file\n",
        "with open(\"random_ips.txt\", \"w\") as file:\n",
        "    for ip in ips:\n",
        "        file.write(ip + \"\\n\")\n"
      ],
      "metadata": {
        "id": "oCCEv8rvof3U"
      },
      "execution_count": null,
      "outputs": []
    },
    {
      "cell_type": "code",
      "source": [
        "from google.colab import files\n",
        "files.download(\"random_ips.txt\")\n"
      ],
      "metadata": {
        "colab": {
          "base_uri": "https://localhost:8080/",
          "height": 17
        },
        "outputId": "bb237822-edcd-40ab-bcf3-7fef237f84c7",
        "id": "y1jzpWc7olGd"
      },
      "execution_count": null,
      "outputs": [
        {
          "output_type": "display_data",
          "data": {
            "text/plain": [
              "<IPython.core.display.Javascript object>"
            ],
            "application/javascript": [
              "\n",
              "    async function download(id, filename, size) {\n",
              "      if (!google.colab.kernel.accessAllowed) {\n",
              "        return;\n",
              "      }\n",
              "      const div = document.createElement('div');\n",
              "      const label = document.createElement('label');\n",
              "      label.textContent = `Downloading \"${filename}\": `;\n",
              "      div.appendChild(label);\n",
              "      const progress = document.createElement('progress');\n",
              "      progress.max = size;\n",
              "      div.appendChild(progress);\n",
              "      document.body.appendChild(div);\n",
              "\n",
              "      const buffers = [];\n",
              "      let downloaded = 0;\n",
              "\n",
              "      const channel = await google.colab.kernel.comms.open(id);\n",
              "      // Send a message to notify the kernel that we're ready.\n",
              "      channel.send({})\n",
              "\n",
              "      for await (const message of channel.messages) {\n",
              "        // Send a message to notify the kernel that we're ready.\n",
              "        channel.send({})\n",
              "        if (message.buffers) {\n",
              "          for (const buffer of message.buffers) {\n",
              "            buffers.push(buffer);\n",
              "            downloaded += buffer.byteLength;\n",
              "            progress.value = downloaded;\n",
              "          }\n",
              "        }\n",
              "      }\n",
              "      const blob = new Blob(buffers, {type: 'application/binary'});\n",
              "      const a = document.createElement('a');\n",
              "      a.href = window.URL.createObjectURL(blob);\n",
              "      a.download = filename;\n",
              "      div.appendChild(a);\n",
              "      a.click();\n",
              "      div.remove();\n",
              "    }\n",
              "  "
            ]
          },
          "metadata": {}
        },
        {
          "output_type": "display_data",
          "data": {
            "text/plain": [
              "<IPython.core.display.Javascript object>"
            ],
            "application/javascript": [
              "download(\"download_e2a7c53d-53af-4ead-9984-1276de9fbc3c\", \"random_ips.txt\", 148)"
            ]
          },
          "metadata": {}
        }
      ]
    },
    {
      "cell_type": "code",
      "source": [
        "! pip3 install python-nmap\n",
        "import nmap\n",
        "import re\n",
        "!apt-get install -y nmap\n",
        "import os\n",
        "os.environ['PATH'] = os.environ['PATH'] + ':/path/to/nmap/executable'\n",
        "\n",
        "# Read IP addresses from text file\n",
        "with open('/content/random_ips.txt', 'r') as f:\n",
        "    ip_list = f.read().splitlines()\n",
        "\n",
        "# Read CVE numbers from text file\n",
        "with open('/content/found_cves.txt', 'r') as f:\n",
        "    cve_list = f.read().splitlines()\n",
        "\n",
        "# Regex pattern for CVE numbers\n",
        "cve_pattern = re.compile(r'CVE-\\d{4}-\\d{4,7}')\n",
        "\n",
        "# Initialize nmap scanner\n",
        "scanner = nmap.PortScanner()\n",
        "\n",
        "# Scan all IP addresses\n",
        "for ip in ip_list:\n",
        "    scanner.scan(ip, arguments='-sV')\n",
        "    for host in scanner.all_hosts():\n",
        "        print(f'Host: {host}')\n",
        "        for proto in scanner.all_protocols():\n",
        "            lport = scanner.all_tcp() if proto == 'tcp' else scanner.all_udp()\n",
        "            for port, info in lport.items():\n",
        "                print(f'\\tPort: {port}')\n",
        "                print(f'\\tService: {info[\"name\"]}')\n",
        "                print(f'\\tProduct: {info[\"product\"]}')\n",
        "                print(f'\\tVersion: {info[\"version\"]}')\n",
        "                # Check for CVE numbers in product and version\n",
        "                matches = re.findall(cve_pattern, info[\"product\"] + info[\"version\"])\n",
        "                if matches:\n",
        "                    for match in matches:\n",
        "                        if match in cve_list:\n",
        "                            print(f'\\t\\tAffected by CVE: {match}')"
      ],
      "metadata": {
        "colab": {
          "base_uri": "https://localhost:8080/"
        },
        "id": "-R2-c-APu62g",
        "outputId": "a42793eb-4c73-4114-cd0f-e00855b0b9d4"
      },
      "execution_count": null,
      "outputs": [
        {
          "output_type": "stream",
          "name": "stdout",
          "text": [
            "Looking in indexes: https://pypi.org/simple, https://us-python.pkg.dev/colab-wheels/public/simple/\n",
            "Requirement already satisfied: python-nmap in /usr/local/lib/python3.8/dist-packages (0.7.1)\n",
            "Reading package lists... Done\n",
            "Building dependency tree       \n",
            "Reading state information... Done\n",
            "nmap is already the newest version (7.80+dfsg1-2build1).\n",
            "The following package was automatically installed and is no longer required:\n",
            "  libnvidia-common-510\n",
            "Use 'apt autoremove' to remove it.\n",
            "0 upgraded, 0 newly installed, 0 to remove and 28 not upgraded.\n"
          ]
        }
      ]
    }
  ]
}