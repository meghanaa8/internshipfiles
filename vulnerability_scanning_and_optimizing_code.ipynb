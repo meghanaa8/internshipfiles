{
  "nbformat": 4,
  "nbformat_minor": 0,
  "metadata": {
    "colab": {
      "provenance": []
    },
    "kernelspec": {
      "name": "python3",
      "display_name": "Python 3"
    },
    "language_info": {
      "name": "python"
    }
  },
  "cells": [
    {
      "cell_type": "code",
      "source": [
        "! pip3 install python-nmap"
      ],
      "metadata": {
        "colab": {
          "base_uri": "https://localhost:8080/"
        },
        "id": "-R2-c-APu62g",
        "outputId": "a5d72621-d2b6-4dd2-c2cc-0d69095e2ecf"
      },
      "execution_count": null,
      "outputs": [
        {
          "output_type": "stream",
          "name": "stdout",
          "text": [
            "Looking in indexes: https://pypi.org/simple, https://us-python.pkg.dev/colab-wheels/public/simple/\n",
            "Requirement already satisfied: python-nmap in /usr/local/lib/python3.8/dist-packages (0.7.1)\n"
          ]
        }
      ]
    },
    {
      "cell_type": "code",
      "source": [
        "!apt-get install -y nmap"
      ],
      "metadata": {
        "colab": {
          "base_uri": "https://localhost:8080/"
        },
        "id": "InEYawjbv3fP",
        "outputId": "5a35d27c-17f9-42af-f834-d450d2ce5827"
      },
      "execution_count": null,
      "outputs": [
        {
          "output_type": "stream",
          "name": "stdout",
          "text": [
            "Reading package lists... Done\n",
            "Building dependency tree       \n",
            "Reading state information... Done\n",
            "nmap is already the newest version (7.80+dfsg1-2build1).\n",
            "The following package was automatically installed and is no longer required:\n",
            "  libnvidia-common-510\n",
            "Use 'apt autoremove' to remove it.\n",
            "0 upgraded, 0 newly installed, 0 to remove and 21 not upgraded.\n"
          ]
        }
      ]
    },
    {
      "cell_type": "code",
      "source": [
        "!which nmap"
      ],
      "metadata": {
        "colab": {
          "base_uri": "https://localhost:8080/"
        },
        "id": "PJwNbLdPwwe-",
        "outputId": "ce0841ea-9b68-4b5a-9b93-a410b52198f2"
      },
      "execution_count": null,
      "outputs": [
        {
          "output_type": "stream",
          "name": "stdout",
          "text": [
            "/usr/bin/nmap\n"
          ]
        }
      ]
    },
    {
      "cell_type": "code",
      "source": [
        "import os\n",
        "os.environ['PATH'] = os.environ['PATH'] + ':/usr/bin/nmap'\n"
      ],
      "metadata": {
        "id": "NZhryCOI0I4Q"
      },
      "execution_count": null,
      "outputs": []
    },
    {
      "cell_type": "code",
      "source": [
        "!apt install git"
      ],
      "metadata": {
        "colab": {
          "base_uri": "https://localhost:8080/"
        },
        "id": "gKTpyJrDUqZ8",
        "outputId": "038e640a-50ae-4466-f8cb-70d6545bcea6"
      },
      "execution_count": null,
      "outputs": [
        {
          "output_type": "stream",
          "name": "stdout",
          "text": [
            "Reading package lists... Done\n",
            "Building dependency tree       \n",
            "Reading state information... Done\n",
            "git is already the newest version (1:2.25.1-1ubuntu3.10).\n",
            "The following package was automatically installed and is no longer required:\n",
            "  libnvidia-common-510\n",
            "Use 'apt autoremove' to remove it.\n",
            "0 upgraded, 0 newly installed, 0 to remove and 21 not upgraded.\n"
          ]
        }
      ]
    },
    {
      "cell_type": "code",
      "source": [
        "import shutil\n",
        "dir_path = '/content/scipag_vulscan'\n",
        "shutil.rmtree(dir_path)"
      ],
      "metadata": {
        "id": "NxXTHz1uepMV",
        "colab": {
          "base_uri": "https://localhost:8080/",
          "height": 345
        },
        "outputId": "91eef430-afa7-41dc-ea9e-b608ab276901"
      },
      "execution_count": null,
      "outputs": [
        {
          "output_type": "error",
          "ename": "FileNotFoundError",
          "evalue": "ignored",
          "traceback": [
            "\u001b[0;31m---------------------------------------------------------------------------\u001b[0m",
            "\u001b[0;31mFileNotFoundError\u001b[0m                         Traceback (most recent call last)",
            "\u001b[0;32m<ipython-input-6-374808ab9399>\u001b[0m in \u001b[0;36m<module>\u001b[0;34m\u001b[0m\n\u001b[1;32m      5\u001b[0m \u001b[0;34m\u001b[0m\u001b[0m\n\u001b[1;32m      6\u001b[0m \u001b[0;31m# Use shutil.rmtree to remove the directory and its contents\u001b[0m\u001b[0;34m\u001b[0m\u001b[0;34m\u001b[0m\u001b[0;34m\u001b[0m\u001b[0m\n\u001b[0;32m----> 7\u001b[0;31m \u001b[0mshutil\u001b[0m\u001b[0;34m.\u001b[0m\u001b[0mrmtree\u001b[0m\u001b[0;34m(\u001b[0m\u001b[0mdir_path\u001b[0m\u001b[0;34m)\u001b[0m\u001b[0;34m\u001b[0m\u001b[0;34m\u001b[0m\u001b[0m\n\u001b[0m",
            "\u001b[0;32m/usr/lib/python3.8/shutil.py\u001b[0m in \u001b[0;36mrmtree\u001b[0;34m(path, ignore_errors, onerror)\u001b[0m\n\u001b[1;32m    707\u001b[0m             \u001b[0morig_st\u001b[0m \u001b[0;34m=\u001b[0m \u001b[0mos\u001b[0m\u001b[0;34m.\u001b[0m\u001b[0mlstat\u001b[0m\u001b[0;34m(\u001b[0m\u001b[0mpath\u001b[0m\u001b[0;34m)\u001b[0m\u001b[0;34m\u001b[0m\u001b[0;34m\u001b[0m\u001b[0m\n\u001b[1;32m    708\u001b[0m         \u001b[0;32mexcept\u001b[0m \u001b[0mException\u001b[0m\u001b[0;34m:\u001b[0m\u001b[0;34m\u001b[0m\u001b[0;34m\u001b[0m\u001b[0m\n\u001b[0;32m--> 709\u001b[0;31m             \u001b[0monerror\u001b[0m\u001b[0;34m(\u001b[0m\u001b[0mos\u001b[0m\u001b[0;34m.\u001b[0m\u001b[0mlstat\u001b[0m\u001b[0;34m,\u001b[0m \u001b[0mpath\u001b[0m\u001b[0;34m,\u001b[0m \u001b[0msys\u001b[0m\u001b[0;34m.\u001b[0m\u001b[0mexc_info\u001b[0m\u001b[0;34m(\u001b[0m\u001b[0;34m)\u001b[0m\u001b[0;34m)\u001b[0m\u001b[0;34m\u001b[0m\u001b[0;34m\u001b[0m\u001b[0m\n\u001b[0m\u001b[1;32m    710\u001b[0m             \u001b[0;32mreturn\u001b[0m\u001b[0;34m\u001b[0m\u001b[0;34m\u001b[0m\u001b[0m\n\u001b[1;32m    711\u001b[0m         \u001b[0;32mtry\u001b[0m\u001b[0;34m:\u001b[0m\u001b[0;34m\u001b[0m\u001b[0;34m\u001b[0m\u001b[0m\n",
            "\u001b[0;32m/usr/lib/python3.8/shutil.py\u001b[0m in \u001b[0;36mrmtree\u001b[0;34m(path, ignore_errors, onerror)\u001b[0m\n\u001b[1;32m    705\u001b[0m         \u001b[0;31m# lstat()/open()/fstat() trick.\u001b[0m\u001b[0;34m\u001b[0m\u001b[0;34m\u001b[0m\u001b[0;34m\u001b[0m\u001b[0m\n\u001b[1;32m    706\u001b[0m         \u001b[0;32mtry\u001b[0m\u001b[0;34m:\u001b[0m\u001b[0;34m\u001b[0m\u001b[0;34m\u001b[0m\u001b[0m\n\u001b[0;32m--> 707\u001b[0;31m             \u001b[0morig_st\u001b[0m \u001b[0;34m=\u001b[0m \u001b[0mos\u001b[0m\u001b[0;34m.\u001b[0m\u001b[0mlstat\u001b[0m\u001b[0;34m(\u001b[0m\u001b[0mpath\u001b[0m\u001b[0;34m)\u001b[0m\u001b[0;34m\u001b[0m\u001b[0;34m\u001b[0m\u001b[0m\n\u001b[0m\u001b[1;32m    708\u001b[0m         \u001b[0;32mexcept\u001b[0m \u001b[0mException\u001b[0m\u001b[0;34m:\u001b[0m\u001b[0;34m\u001b[0m\u001b[0;34m\u001b[0m\u001b[0m\n\u001b[1;32m    709\u001b[0m             \u001b[0monerror\u001b[0m\u001b[0;34m(\u001b[0m\u001b[0mos\u001b[0m\u001b[0;34m.\u001b[0m\u001b[0mlstat\u001b[0m\u001b[0;34m,\u001b[0m \u001b[0mpath\u001b[0m\u001b[0;34m,\u001b[0m \u001b[0msys\u001b[0m\u001b[0;34m.\u001b[0m\u001b[0mexc_info\u001b[0m\u001b[0;34m(\u001b[0m\u001b[0;34m)\u001b[0m\u001b[0;34m)\u001b[0m\u001b[0;34m\u001b[0m\u001b[0;34m\u001b[0m\u001b[0m\n",
            "\u001b[0;31mFileNotFoundError\u001b[0m: [Errno 2] No such file or directory: '/content/scipag_vulscan'"
          ]
        }
      ]
    },
    {
      "cell_type": "code",
      "source": [
        "# Cloning the repository and creating a symbolic link\n",
        "!git clone https://github.com/scipag/vulscan scipag_vulscan\n",
        "!ln -s `pwd`/scipag_vulscan /usr/share/nmap/scripts/vulscan\n",
        "\n",
        "\n",
        "import os\n",
        "import subprocess\n",
        "import re\n",
        "\n",
        "# Define the target IP address or domain name\n",
        "target = \"93.184.216.34\"\n",
        "\n",
        "# Define the Nmap command with vulscan script and run the command\n",
        "nmap_cmd = f\"nmap -Pn --script=vulscan/vulscan.nse {target}\"\n",
        "output = subprocess.check_output(nmap_cmd, shell=True)\n",
        "\n",
        "# Extract the CVE numbers from the output using regex\n",
        "cve_regex = re.compile(r'(CVE-\\d{4}-\\d{4,7})')\n",
        "cve_matches = cve_regex.findall(output.decode())\n",
        "\n",
        "# Print the CVE numbers\n",
        "print(\"CVE numbers:\")\n",
        "for cve in cve_matches:\n",
        "    print(cve)\n"
      ],
      "metadata": {
        "colab": {
          "base_uri": "https://localhost:8080/"
        },
        "id": "hMNUQkTPRIq0",
        "outputId": "299463e3-cae1-4295-de08-cf03c661f14a"
      },
      "execution_count": null,
      "outputs": [
        {
          "output_type": "stream",
          "name": "stdout",
          "text": [
            "Cloning into 'scipag_vulscan'...\n",
            "remote: Enumerating objects: 282, done.\u001b[K\n",
            "remote: Counting objects:   5% (1/18)\u001b[K\rremote: Counting objects:  11% (2/18)\u001b[K\rremote: Counting objects:  16% (3/18)\u001b[K\rremote: Counting objects:  22% (4/18)\u001b[K\rremote: Counting objects:  27% (5/18)\u001b[K\rremote: Counting objects:  33% (6/18)\u001b[K\rremote: Counting objects:  38% (7/18)\u001b[K\rremote: Counting objects:  44% (8/18)\u001b[K\rremote: Counting objects:  50% (9/18)\u001b[K\rremote: Counting objects:  55% (10/18)\u001b[K\rremote: Counting objects:  61% (11/18)\u001b[K\rremote: Counting objects:  66% (12/18)\u001b[K\rremote: Counting objects:  72% (13/18)\u001b[K\rremote: Counting objects:  77% (14/18)\u001b[K\rremote: Counting objects:  83% (15/18)\u001b[K\rremote: Counting objects:  88% (16/18)\u001b[K\rremote: Counting objects:  94% (17/18)\u001b[K\rremote: Counting objects: 100% (18/18)\u001b[K\rremote: Counting objects: 100% (18/18), done.\u001b[K\n",
            "remote: Compressing objects: 100% (16/16), done.\u001b[K\n",
            "remote: Total 282 (delta 6), reused 7 (delta 2), pack-reused 264\u001b[K\n",
            "Receiving objects: 100% (282/282), 17.49 MiB | 27.90 MiB/s, done.\n",
            "Resolving deltas: 100% (169/169), done.\n",
            "CVE numbers:\n"
          ]
        }
      ]
    },
    {
      "cell_type": "code",
      "source": [
        "# Cloning the repository and creating a symbolic link\n",
        "!git clone https://github.com/scipag/vulscan scipag_vulscan\n",
        "!ln -s `pwd`/scipag_vulscan /usr/share/nmap/scripts/vulscan\n",
        "\n",
        "\n",
        "import os\n",
        "import subprocess\n",
        "\n",
        "# The target IP address or domain name\n",
        "target = \"93.184.216.34\"\n",
        "\n",
        "# Nmap command with vulscan script and run the command\n",
        "nmap_cmd = f\"nmap -Pn -sV --script=vulscan/vulscan.nse {target}\"\n",
        "output = subprocess.check_output(nmap_cmd, shell=True)\n",
        "\n",
        "print(output.decode())\n",
        "\n"
      ],
      "metadata": {
        "colab": {
          "base_uri": "https://localhost:8080/"
        },
        "id": "Yu8ckkKocjB_",
        "outputId": "181231f5-df48-4931-f3d7-b4040c55ff90"
      },
      "execution_count": null,
      "outputs": [
        {
          "output_type": "stream",
          "name": "stdout",
          "text": [
            "Cloning into 'scipag_vulscan'...\n",
            "remote: Enumerating objects: 282, done.\u001b[K\n",
            "remote: Counting objects:   5% (1/18)\u001b[K\rremote: Counting objects:  11% (2/18)\u001b[K\rremote: Counting objects:  16% (3/18)\u001b[K\rremote: Counting objects:  22% (4/18)\u001b[K\rremote: Counting objects:  27% (5/18)\u001b[K\rremote: Counting objects:  33% (6/18)\u001b[K\rremote: Counting objects:  38% (7/18)\u001b[K\rremote: Counting objects:  44% (8/18)\u001b[K\rremote: Counting objects:  50% (9/18)\u001b[K\rremote: Counting objects:  55% (10/18)\u001b[K\rremote: Counting objects:  61% (11/18)\u001b[K\rremote: Counting objects:  66% (12/18)\u001b[K\rremote: Counting objects:  72% (13/18)\u001b[K\rremote: Counting objects:  77% (14/18)\u001b[K\rremote: Counting objects:  83% (15/18)\u001b[K\rremote: Counting objects:  88% (16/18)\u001b[K\rremote: Counting objects:  94% (17/18)\u001b[K\rremote: Counting objects: 100% (18/18)\u001b[K\rremote: Counting objects: 100% (18/18), done.\u001b[K\n",
            "remote: Compressing objects: 100% (16/16), done.\u001b[K\n",
            "remote: Total 282 (delta 6), reused 7 (delta 2), pack-reused 264\u001b[K\n",
            "Receiving objects: 100% (282/282), 17.49 MiB | 20.54 MiB/s, done.\n",
            "Resolving deltas: 100% (169/169), done.\n",
            "Starting Nmap 7.80 ( https://nmap.org ) at 2023-02-21 05:21 UTC\n",
            "Nmap scan report for 93.184.216.34\n",
            "Host is up (0.011s latency).\n",
            "Not shown: 996 filtered ports\n",
            "PORT     STATE  SERVICE  VERSION\n",
            "80/tcp   open   http     Edgecast CDN httpd (agb/A431)\n",
            "| http-server-header: \n",
            "|   ECS (agb/5295)\n",
            "|_  ECS (agb/A430)\n",
            "| vulscan: VulDB - https://vuldb.com:\n",
            "| No findings\n",
            "| \n",
            "| MITRE CVE - https://cve.mitre.org:\n",
            "| [CVE-2012-5159] phpMyAdmin 3.5.2.2, as distributed by the cdnetworks-kr-1 mirror during an unspecified time frame in 2012, contains an externally introduced modification (Trojan Horse) in server_sync.php, which allows remote attackers to execute arbitrary PHP code via an eval injection attack.\n",
            "| [CVE-2012-2917] Cross-site scripting (XSS) vulnerability in the Share and Follow plugin 1.80.3 for WordPress allows remote attackers to inject arbitrary web script or HTML via the CDN API Key (cnd-key) in a share-and-follow-menu page to wp-admin/admin.php.\n",
            "| [CVE-2012-2155] Cross-site request forgery (CSRF) vulnerability in the CDN2 Video module 6.x for Drupal allows remote attackers to hijack the authentication of unspecified victims via unknown vectors.\n",
            "| [CVE-2012-2154] Cross-site scripting (XSS) vulnerability in the CDN2 Video module 6.x for Drupal allows remote attackers to inject arbitrary web script or HTML via unspecified vectors.\n",
            "| [CVE-2012-1645] The CDN module 6.x-2.2 and 7.x-2.2 for Drupal, when running in Origin Pull mode with the \"Far Future expiration\" option enabled, allows remote attackers to read arbitrary PHP files via unspecified vectors, as demonstrated by reading settings.php.\n",
            "| [CVE-2008-1886] The NeffyLauncher 1.0.5 ActiveX control (NeffyLauncher.dll) in CDNetworks Nefficient Download uses weak cryptography for a KeyCode that blocks unauthorized use of the control, which allows remote attackers to bypass this protection mechanism by calculating the required KeyCode.  NOTE: this can be used by arbitrary web sites to host exploit code that targets this control.\n",
            "| [CVE-2008-1885] Directory traversal vulnerability in the NeffyLauncher 1.0.5 ActiveX control (NeffyLauncher.dll) in CDNetworks Nefficient Download allows remote attackers to download arbitrary code onto a client system via a .. (dot dot) in the SkinPath parameter and a .zip URL in the HttpSkin parameter.  NOTE: this can be leveraged for code execution by writing to a Startup folder.\n",
            "| \n",
            "| SecurityFocus - https://www.securityfocus.com/bid/:\n",
            "| [83663] CDNsun and OnApp Remote Denial of Service Vulnerability\n",
            "| [52812] Drupal CDN2 Video Module Cross Site Request Forgery and Cross Site Scripting Vulnerabilities\n",
            "| [52041] Drupal CDN Module Information Disclosure Vulnerability\n",
            "| [46483] WordPress cdnvote 'cdnvote-post.php' Multiple SQL Injection Vulnerabilities\n",
            "| [28666] CDNetworks Nefficient Download 'NeffyLauncher.dll' ActiveX Control Multiple Vulnerabilities\n",
            "| \n",
            "| IBM X-Force - https://exchange.xforce.ibmcloud.com:\n",
            "| [74522] CDN2 Video for Drupal unspecified cross-site request forgery\n",
            "| [74520] CDN2 Video module for Drupal unspecified cross-site scripting\n",
            "| [73250] CDN module for Drupal unspecified information disclosure\n",
            "| [65630] cdnvote plugin for WordPress cdnvote-post.php SQL injection\n",
            "| \n",
            "| Exploit-DB - https://www.exploit-db.com:\n",
            "| [5397] CDNetworks Nefficient Download (NeffyLauncher.dll) Code Execution Vuln\n",
            "| \n",
            "| OpenVAS (Nessus) - http://www.openvas.org:\n",
            "| No findings\n",
            "| \n",
            "| SecurityTracker - https://www.securitytracker.com:\n",
            "| [1002416] Cisco Internet Content Distribution Network (iCDN) Products May Let Remote Users Masquerade as Valid Authenticated Clients Due to Security Flaw in RSA BSAFE Library\n",
            "| \n",
            "| OSVDB - http://www.osvdb.org:\n",
            "| [80686] CDN2 Video Module for Drupal Form API Unspecified CSRF\n",
            "| [80685] CDN2 Video Module for Drupal Unspecified XSS\n",
            "| [79317] CDN Module for Drupal PHP File Source Code Disclosure\n",
            "| [71039] cdnvote Plugin for WordPress cdnvote-post.php Multiple Parameter SQL Injection\n",
            "| [44460] CDNetworks Nefficient Download NeffyLauncher ActiveX (NeffyLauncher.dll) KeyCode Cryptography Weakness\n",
            "| [44247] CDNetworks Nefficient Download NeffyLauncher ActiveX (NeffyLauncher.dll) SkinPath Property Traversal Arbitrary File Download\n",
            "|_\n",
            "443/tcp  open   ssl/http Edgecast CDN httpd (agb/A430)\n",
            "| http-server-header: \n",
            "|   ECS (agb/A430)\n",
            "|_  ECS (agb/A431)\n",
            "| vulscan: VulDB - https://vuldb.com:\n",
            "| No findings\n",
            "| \n",
            "| MITRE CVE - https://cve.mitre.org:\n",
            "| [CVE-2012-5159] phpMyAdmin 3.5.2.2, as distributed by the cdnetworks-kr-1 mirror during an unspecified time frame in 2012, contains an externally introduced modification (Trojan Horse) in server_sync.php, which allows remote attackers to execute arbitrary PHP code via an eval injection attack.\n",
            "| [CVE-2012-2917] Cross-site scripting (XSS) vulnerability in the Share and Follow plugin 1.80.3 for WordPress allows remote attackers to inject arbitrary web script or HTML via the CDN API Key (cnd-key) in a share-and-follow-menu page to wp-admin/admin.php.\n",
            "| [CVE-2012-2155] Cross-site request forgery (CSRF) vulnerability in the CDN2 Video module 6.x for Drupal allows remote attackers to hijack the authentication of unspecified victims via unknown vectors.\n",
            "| [CVE-2012-2154] Cross-site scripting (XSS) vulnerability in the CDN2 Video module 6.x for Drupal allows remote attackers to inject arbitrary web script or HTML via unspecified vectors.\n",
            "| [CVE-2012-1645] The CDN module 6.x-2.2 and 7.x-2.2 for Drupal, when running in Origin Pull mode with the \"Far Future expiration\" option enabled, allows remote attackers to read arbitrary PHP files via unspecified vectors, as demonstrated by reading settings.php.\n",
            "| [CVE-2008-1886] The NeffyLauncher 1.0.5 ActiveX control (NeffyLauncher.dll) in CDNetworks Nefficient Download uses weak cryptography for a KeyCode that blocks unauthorized use of the control, which allows remote attackers to bypass this protection mechanism by calculating the required KeyCode.  NOTE: this can be used by arbitrary web sites to host exploit code that targets this control.\n",
            "| [CVE-2008-1885] Directory traversal vulnerability in the NeffyLauncher 1.0.5 ActiveX control (NeffyLauncher.dll) in CDNetworks Nefficient Download allows remote attackers to download arbitrary code onto a client system via a .. (dot dot) in the SkinPath parameter and a .zip URL in the HttpSkin parameter.  NOTE: this can be leveraged for code execution by writing to a Startup folder.\n",
            "| \n",
            "| SecurityFocus - https://www.securityfocus.com/bid/:\n",
            "| [83663] CDNsun and OnApp Remote Denial of Service Vulnerability\n",
            "| [52812] Drupal CDN2 Video Module Cross Site Request Forgery and Cross Site Scripting Vulnerabilities\n",
            "| [52041] Drupal CDN Module Information Disclosure Vulnerability\n",
            "| [46483] WordPress cdnvote 'cdnvote-post.php' Multiple SQL Injection Vulnerabilities\n",
            "| [28666] CDNetworks Nefficient Download 'NeffyLauncher.dll' ActiveX Control Multiple Vulnerabilities\n",
            "| \n",
            "| IBM X-Force - https://exchange.xforce.ibmcloud.com:\n",
            "| [74522] CDN2 Video for Drupal unspecified cross-site request forgery\n",
            "| [74520] CDN2 Video module for Drupal unspecified cross-site scripting\n",
            "| [73250] CDN module for Drupal unspecified information disclosure\n",
            "| [65630] cdnvote plugin for WordPress cdnvote-post.php SQL injection\n",
            "| \n",
            "| Exploit-DB - https://www.exploit-db.com:\n",
            "| [5397] CDNetworks Nefficient Download (NeffyLauncher.dll) Code Execution Vuln\n",
            "| \n",
            "| OpenVAS (Nessus) - http://www.openvas.org:\n",
            "| No findings\n",
            "| \n",
            "| SecurityTracker - https://www.securitytracker.com:\n",
            "| [1002416] Cisco Internet Content Distribution Network (iCDN) Products May Let Remote Users Masquerade as Valid Authenticated Clients Due to Security Flaw in RSA BSAFE Library\n",
            "| \n",
            "| OSVDB - http://www.osvdb.org:\n",
            "| [80686] CDN2 Video Module for Drupal Form API Unspecified CSRF\n",
            "| [80685] CDN2 Video Module for Drupal Unspecified XSS\n",
            "| [79317] CDN Module for Drupal PHP File Source Code Disclosure\n",
            "| [71039] cdnvote Plugin for WordPress cdnvote-post.php Multiple Parameter SQL Injection\n",
            "| [44460] CDNetworks Nefficient Download NeffyLauncher ActiveX (NeffyLauncher.dll) KeyCode Cryptography Weakness\n",
            "| [44247] CDNetworks Nefficient Download NeffyLauncher ActiveX (NeffyLauncher.dll) SkinPath Property Traversal Arbitrary File Download\n",
            "|_\n",
            "1119/tcp closed bnetgame\n",
            "1935/tcp closed rtmp\n",
            "\n",
            "Service detection performed. Please report any incorrect results at https://nmap.org/submit/ .\n",
            "Nmap done: 1 IP address (1 host up) scanned in 25.63 seconds\n",
            "\n"
          ]
        }
      ]
    },
    {
      "cell_type": "code",
      "source": [
        "import os\n",
        "import subprocess\n",
        "from multiprocessing import Pool\n",
        "\n",
        "# Clone the vulscan repository and create a symbolic link\n",
        "subprocess.run(\"git clone https://github.com/scipag/vulscan scipag_vulscan\", shell=True, check=True)\n",
        "subprocess.run(\"sudo ln -s `pwd`/scipag_vulscan /usr/share/nmap/scripts/vulscan\", shell=True, check=True)\n",
        "\n",
        "\n",
        "# The input file containing a list of IP addresses\n",
        "input_file = \"/content/random_ips.txt\"\n",
        "\n",
        "# The file containing a list of CVEs to match against\n",
        "cve_file = \"/content/found_cves.txt\"\n",
        "\n",
        "# The number of parallel processes to run\n",
        "num_processes = 4\n",
        "\n",
        "# Function to run the Nmap command for a single IP and return the output\n",
        "def run_nmap(ip):\n",
        "    nmap_cmd = f\"nmap -Pn -sV --script=vulscan/vulscan.nse {ip}\"\n",
        "    output = subprocess.check_output(nmap_cmd, shell=True)\n",
        "    return output.decode()\n",
        "\n",
        "# Read the list of IP addresses from the input file\n",
        "with open(input_file, \"r\") as f:\n",
        "    ip_list = f.read().splitlines()\n",
        "\n",
        "# Use multiprocessing to run the Nmap commands in parallel\n",
        "with Pool(processes=num_processes) as pool:\n",
        "    nmap_results = pool.map(run_nmap, ip_list)\n",
        "\n",
        "# Parse the output from each Nmap command and extract the CVE information\n",
        "ip_cve_set = set()\n",
        "for i, result in enumerate(nmap_results):\n",
        "    ip = ip_list[i]\n",
        "    cve_list = []\n",
        "    for line in result.splitlines():\n",
        "      if \"CVE\" in line:\n",
        "        cve_parts = line.split(\":\")\n",
        "        if len(cve_parts) > 1:\n",
        "            cve = cve_parts[1].strip()\n",
        "            cve_list.append(cve)\n",
        "    if cve_list:\n",
        "        ip_cve_set.add((ip, tuple(cve_list)))\n",
        "    else:\n",
        "        ip_cve_set.add((ip, (\"No CVE information found\",)))\n",
        "\n",
        "# Read the list of CVEs to match against\n",
        "with open(cve_file, \"r\") as f:\n",
        "    cve_list = set(f.read().splitlines())\n",
        "\n",
        "# Find the matches between the IP CVEs and the provided CVE list\n",
        "matched_cve_set = set()\n",
        "for ip, cve_tuple in ip_cve_set:\n",
        "    for cve in cve_tuple:\n",
        "        if cve in cve_list:\n",
        "            matched_cve_set.add(cve)\n",
        "\n",
        "# Print the IP addresses and their corresponding CVEs\n",
        "for ip, cve_tuple in ip_cve_set:\n",
        "    print(ip, \":\", list(cve_tuple))\n",
        "\n",
        "# Print the matched CVEs\n",
        "print(\"Matched CVEs:\", matched_cve_set)\n",
        "\n",
        "# Remove the cloned repository and the symbolic link\n",
        "subprocess.run(\"rm -rf scipag_vulscan\", shell=True, check=True)\n",
        "subprocess.run(\"rm /usr/share/nmap/scripts/vulscan\", shell=True, check=True)\n"
      ],
      "metadata": {
        "colab": {
          "base_uri": "https://localhost:8080/"
        },
        "id": "JgueDJOl4lX8",
        "outputId": "74935bbd-72b9-4b36-c190-27a692e27612"
      },
      "execution_count": null,
      "outputs": [
        {
          "output_type": "stream",
          "name": "stdout",
          "text": [
            "243.151.103.53 : ['No CVE information found']\n",
            "93.184.216.34 : ['//cve.mitre.org', 'this can be used by arbitrary web sites to host exploit code that targets this control.', 'this can be leveraged for code execution by writing to a Startup folder.', '//cve.mitre.org', 'this can be used by arbitrary web sites to host exploit code that targets this control.', 'this can be leveraged for code execution by writing to a Startup folder.']\n",
            "213.199.203.144 : ['No CVE information found']\n",
            "164.77.244.121 : ['No CVE information found']\n",
            "102.71.34.31 : ['No CVE information found']\n",
            "231.12.20.191 : ['No CVE information found']\n",
            "170.181.159.53 : ['No CVE information found']\n",
            "90.150.199.218 : ['No CVE information found']\n",
            "51.119.95.152 : ['No CVE information found']\n",
            "220.230.98.176 : ['No CVE information found']\n",
            "Matched CVEs: set()\n"
          ]
        },
        {
          "output_type": "execute_result",
          "data": {
            "text/plain": [
              "CompletedProcess(args='rm /usr/share/nmap/scripts/vulscan', returncode=0)"
            ]
          },
          "metadata": {},
          "execution_count": 15
        }
      ]
    },
    {
      "cell_type": "code",
      "source": [
        "import os\n",
        "import subprocess\n",
        "from multiprocessing import Pool\n",
        "\n",
        "# Clone the vulscan repository and create a symbolic link\n",
        "subprocess.run(\"git clone https://github.com/scipag/vulscan scipag_vulscan\", shell=True, check=True)\n",
        "subprocess.run(\"sudo ln -s `pwd`/scipag_vulscan /usr/share/nmap/scripts/vulscan\", shell=True, check=True)\n",
        "\n",
        "\n",
        "# The input file containing a list of IP addresses\n",
        "input_file = \"/content/random_ips.txt\"\n",
        "\n",
        "# The file containing a list of CVEs to match against\n",
        "cve_file = \"/content/found_cves.txt\"\n",
        "\n",
        "# The number of parallel processes to run\n",
        "num_processes = 4\n",
        "\n",
        "# Function to run the Nmap command for a single IP and return the output\n",
        "def run_nmap(ip):\n",
        "    nmap_cmd = f\"nmap -Pn -sV --script=vulscan/vulscan.nse {ip}\"\n",
        "    output = subprocess.check_output(nmap_cmd, shell=True)\n",
        "    return output.decode()\n",
        "\n",
        "# Read the list of IP addresses from the input file\n",
        "with open(input_file, \"r\") as f:\n",
        "    ip_list = f.read().splitlines()\n",
        "\n",
        "# Use multiprocessing to run the Nmap commands in parallel\n",
        "with Pool(processes=num_processes) as pool:\n",
        "    nmap_results = pool.map(run_nmap, ip_list)\n",
        "\n",
        "# Parse the output from each Nmap command and extract the CVE information\n",
        "ip_cve_set = set()\n",
        "for i, result in enumerate(nmap_results):\n",
        "    ip = ip_list[i]\n",
        "    cve_list = []\n",
        "    for line in result.splitlines():\n",
        "        if \"CVE\" in line:\n",
        "            cve_parts = line.split(\":\")\n",
        "            if len(cve_parts) > 1:\n",
        "                cve = cve_parts[1].strip()\n",
        "                cve_desc = line.split(\"CVE-\")[0].strip()\n",
        "                cve_list.append((cve, cve_desc))\n",
        "    if cve_list:\n",
        "        ip_cve_set.add((ip, tuple(cve_list)))\n",
        "    else:\n",
        "        ip_cve_set.add((ip, ((\"No CVE information found\", \"\"),)))\n",
        "\n",
        "# Read the list of CVEs to match against\n",
        "with open(cve_file, \"r\") as f:\n",
        "    cve_list = set(f.read().splitlines())\n",
        "\n",
        "# Find the matches between the IP CVEs and the provided CVE list\n",
        "matched_cve_set = set()\n",
        "for ip, cve_tuple in ip_cve_set:\n",
        "    for cve, desc in cve_tuple:\n",
        "        if cve in cve_list:\n",
        "            matched_cve_set.add((cve, desc))\n",
        "\n",
        "# Print the IP addresses and their corresponding CVEs\n",
        "for ip, cve_tuple in ip_cve_set:\n",
        "    print(ip, \":\")\n",
        "    for cve, desc in cve_tuple:\n",
        "        print(f\"\\tCVE: {cve}\\n\\tDescription: {desc}\")\n",
        "\n",
        "# Print the matched CVEs\n",
        "print(\"Matched CVEs:\")\n",
        "for cve, desc in matched_cve_set:\n",
        "    print(f\"\\tCVE: {cve}\\n\\tDescription: {desc}\")\n",
        "\n",
        "# Remove the cloned repository and the symbolic link\n",
        "subprocess.run(\"rm -rf scipag_vulscan\", shell=True, check=True)\n",
        "subprocess.run(\"rm /usr/share/nmap/scripts/vulscan\", shell=True, check=True)\n"
      ],
      "metadata": {
        "colab": {
          "base_uri": "https://localhost:8080/"
        },
        "id": "5d66s96TLePl",
        "outputId": "e173d2de-a76f-4b43-e98e-523061a87706"
      },
      "execution_count": null,
      "outputs": [
        {
          "output_type": "stream",
          "name": "stdout",
          "text": [
            "220.230.98.176 :\n",
            "\tCVE: No CVE information found\n",
            "\tDescription: \n",
            "90.150.199.218 :\n",
            "\tCVE: No CVE information found\n",
            "\tDescription: \n",
            "243.151.103.53 :\n",
            "\tCVE: No CVE information found\n",
            "\tDescription: \n",
            "213.199.203.144 :\n",
            "\tCVE: No CVE information found\n",
            "\tDescription: \n",
            "170.181.159.53 :\n",
            "\tCVE: No CVE information found\n",
            "\tDescription: \n",
            "231.12.20.191 :\n",
            "\tCVE: No CVE information found\n",
            "\tDescription: \n",
            "164.77.244.121 :\n",
            "\tCVE: No CVE information found\n",
            "\tDescription: \n",
            "93.184.216.34 :\n",
            "\tCVE: //cve.mitre.org\n",
            "\tDescription: | MITRE CVE - https://cve.mitre.org:\n",
            "\tCVE: this can be used by arbitrary web sites to host exploit code that targets this control.\n",
            "\tDescription: | [\n",
            "\tCVE: this can be leveraged for code execution by writing to a Startup folder.\n",
            "\tDescription: | [\n",
            "\tCVE: //cve.mitre.org\n",
            "\tDescription: | MITRE CVE - https://cve.mitre.org:\n",
            "\tCVE: this can be used by arbitrary web sites to host exploit code that targets this control.\n",
            "\tDescription: | [\n",
            "\tCVE: this can be leveraged for code execution by writing to a Startup folder.\n",
            "\tDescription: | [\n",
            "51.119.95.152 :\n",
            "\tCVE: No CVE information found\n",
            "\tDescription: \n",
            "102.71.34.31 :\n",
            "\tCVE: No CVE information found\n",
            "\tDescription: \n",
            "Matched CVEs:\n"
          ]
        },
        {
          "output_type": "execute_result",
          "data": {
            "text/plain": [
              "CompletedProcess(args='rm /usr/share/nmap/scripts/vulscan', returncode=0)"
            ]
          },
          "metadata": {},
          "execution_count": 7
        }
      ]
    },
    {
      "cell_type": "code",
      "source": [
        "import os\n",
        "import subprocess\n",
        "from multiprocessing import Pool\n",
        "\n",
        "# Clone the vulscan repository and create a symbolic link\n",
        "subprocess.run(\"git clone https://github.com/scipag/vulscan scipag_vulscan\", shell=True, check=True)\n",
        "subprocess.run(\"sudo ln -s `pwd`/scipag_vulscan /usr/share/nmap/scripts/vulscan\", shell=True, check=True)\n",
        "\n",
        "\n",
        "# The input file containing a list of IP addresses\n",
        "input_file = \"/content/random_ips.txt\"\n",
        "\n",
        "# The file containing a list of CVEs to match against\n",
        "cve_file = \"/content/found_cves.txt\"\n",
        "\n",
        "# The number of parallel processes to run\n",
        "num_processes = 6\n",
        "\n",
        "# Function to run the Nmap command for a single IP and return the output\n",
        "def run_nmap(ip):\n",
        "    nmap_cmd = f\"nmap -Pn -sV --script=vulscan/vulscan.nse {ip}\"\n",
        "    output = subprocess.check_output(nmap_cmd, shell=True)\n",
        "    return output.decode()\n",
        "\n",
        "# Read the list of IP addresses from the input file\n",
        "with open(input_file, \"r\") as f:\n",
        "    ip_list = f.read().splitlines()\n",
        "\n",
        "# Use multiprocessing to run the Nmap commands in parallel\n",
        "with Pool(processes=num_processes) as pool:\n",
        "    nmap_results = pool.map(run_nmap, ip_list)\n",
        "\n",
        "# Parse the output from each Nmap command and extract the CVE information\n",
        "ip_cve_set = set()\n",
        "for i, result in enumerate(nmap_results):\n",
        "    ip = ip_list[i]\n",
        "    cve_list = []\n",
        "    for line in result.splitlines():\n",
        "        if \"CVE\" in line:\n",
        "            cve_parts = line.split(\":\")\n",
        "            if len(cve_parts) > 1:\n",
        "                cve = cve_parts[1].strip()\n",
        "                cve_desc = line.split(\"CVE-\")[0].strip()\n",
        "                cve_list.append((cve, cve_desc))\n",
        "    if cve_list:\n",
        "        ip_cve_set.add((ip, tuple(cve_list)))\n",
        "    else:\n",
        "        ip_cve_set.add((ip, ((\"No CVE information found\", \"\"),)))\n",
        "\n",
        "# Read the list of CVEs to match against\n",
        "with open(cve_file, \"r\") as f:\n",
        "    cve_list = set(f.read().splitlines())\n",
        "\n",
        "# Find the matches between the IP CVEs and the provided CVE list\n",
        "matched_cve_set = set()\n",
        "for ip, cve_tuple in ip_cve_set:\n",
        "    for cve, desc in cve_tuple:\n",
        "        if cve in cve_list:\n",
        "            matched_cve_set.add((cve, desc))\n",
        "\n",
        "# Print the IP addresses and their corresponding CVEs\n",
        "for ip, cve_tuple in ip_cve_set:\n",
        "    print(ip, \":\")\n",
        "    for cve, desc in cve_tuple:\n",
        "        print(f\"\\tCVE: {cve}\\n\\tDescription: {desc}\")\n",
        "\n",
        "# Print the matched CVEs\n",
        "print(\"Matched CVEs:\")\n",
        "for cve, desc in matched_cve_set:\n",
        "    print(f\"\\tCVE: {cve}\\n\\tDescription: {desc}\")\n",
        "\n",
        "# Remove the cloned repository and the symbolic link\n",
        "subprocess.run(\"rm -rf scipag_vulscan\", shell=True, check=True)\n",
        "subprocess.run(\"rm /usr/share/nmap/scripts/vulscan\", shell=True, check=True)\n"
      ],
      "metadata": {
        "colab": {
          "base_uri": "https://localhost:8080/"
        },
        "id": "IQH2c2_ETCo9",
        "outputId": "220088f2-64e2-4173-8eb8-249d6b61f527"
      },
      "execution_count": null,
      "outputs": [
        {
          "output_type": "stream",
          "name": "stdout",
          "text": [
            "220.230.98.176 :\n",
            "\tCVE: No CVE information found\n",
            "\tDescription: \n",
            "90.150.199.218 :\n",
            "\tCVE: No CVE information found\n",
            "\tDescription: \n",
            "243.151.103.53 :\n",
            "\tCVE: No CVE information found\n",
            "\tDescription: \n",
            "213.199.203.144 :\n",
            "\tCVE: No CVE information found\n",
            "\tDescription: \n",
            "170.181.159.53 :\n",
            "\tCVE: No CVE information found\n",
            "\tDescription: \n",
            "231.12.20.191 :\n",
            "\tCVE: No CVE information found\n",
            "\tDescription: \n",
            "164.77.244.121 :\n",
            "\tCVE: No CVE information found\n",
            "\tDescription: \n",
            "93.184.216.34 :\n",
            "\tCVE: //cve.mitre.org\n",
            "\tDescription: | MITRE CVE - https://cve.mitre.org:\n",
            "\tCVE: this can be used by arbitrary web sites to host exploit code that targets this control.\n",
            "\tDescription: | [\n",
            "\tCVE: this can be leveraged for code execution by writing to a Startup folder.\n",
            "\tDescription: | [\n",
            "\tCVE: //cve.mitre.org\n",
            "\tDescription: | MITRE CVE - https://cve.mitre.org:\n",
            "\tCVE: this can be used by arbitrary web sites to host exploit code that targets this control.\n",
            "\tDescription: | [\n",
            "\tCVE: this can be leveraged for code execution by writing to a Startup folder.\n",
            "\tDescription: | [\n",
            "51.119.95.152 :\n",
            "\tCVE: No CVE information found\n",
            "\tDescription: \n",
            "102.71.34.31 :\n",
            "\tCVE: No CVE information found\n",
            "\tDescription: \n",
            "Matched CVEs:\n"
          ]
        },
        {
          "output_type": "execute_result",
          "data": {
            "text/plain": [
              "CompletedProcess(args='rm /usr/share/nmap/scripts/vulscan', returncode=0)"
            ]
          },
          "metadata": {},
          "execution_count": 8
        }
      ]
    }
  ]
}